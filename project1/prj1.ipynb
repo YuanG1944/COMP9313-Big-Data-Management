{
 "cells": [
  {
   "cell_type": "code",
   "execution_count": 2,
   "metadata": {},
   "outputs": [],
   "source": [
    "from pyspark import SparkConf, SparkContext"
   ]
  },
  {
   "cell_type": "code",
   "execution_count": 5,
   "metadata": {},
   "outputs": [],
   "source": [
    "def isQialified(dataHashCode, queryHashCode, alpha_m, offset):\n",
    "    count = 0\n",
    "    length = len(dataHashCode)\n",
    "    for i in range(length):\n",
    "       if abs(dataHashCode[i] - queryHashCode[i]) <= offset:\n",
    "           count += 1\n",
    "    return count >= alpha_m"
   ]
  },
  {
   "cell_type": "code",
   "execution_count": 6,
   "metadata": {},
   "outputs": [],
   "source": [
    "def c2lsh(data_hashes, query_hashes, alpha_m, beta_n):\n",
    "    offset = -1\n",
    "    numCandidates = -1\n",
    "    while numCandidates < beta_n:\n",
    "        offset += 1\n",
    "        #e : (id, hashCode)\n",
    "        CandidatesRDD = data_hashes.filter(lambda e: isQialified(e[1], query_hashes, alpha_m, offset)).map(lambda e: e[0])\n",
    "        numCandidates = CandidatesRDD.count()\n",
    "    return CandidatesRDD"
   ]
  },
  {
   "cell_type": "code",
   "execution_count": null,
   "metadata": {},
   "outputs": [],
   "source": []
  }
 ],
 "metadata": {
  "kernelspec": {
   "name": "python_defaultSpec_1594299897772",
   "display_name": "Python 3.7.6 64-bit ('base': conda)"
  }
 },
 "nbformat": 4,
 "nbformat_minor": 4
}