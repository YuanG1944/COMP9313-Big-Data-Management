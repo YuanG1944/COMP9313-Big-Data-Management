{
 "cells": [
  {
   "cell_type": "code",
   "execution_count": 1,
   "metadata": {},
   "outputs": [],
   "source": [
    "from pyspark import SparkContext, SparkConf\n",
    "from time import time\n",
    "import pickle\n"
   ]
  },
  {
   "cell_type": "code",
   "execution_count": 2,
   "metadata": {},
   "outputs": [],
   "source": [
    "def diff(data_arr, query_arr):\n",
    "    length = len(data_arr)\n",
    "    res_arr=[]\n",
    "    for i in range(length):\n",
    "        res_arr.append(abs(data_arr[i] - query_arr[i]))\n",
    "    return res_arr\n"
   ]
  },
  {
   "cell_type": "code",
   "execution_count": 3,
   "metadata": {},
   "outputs": [],
   "source": [
    "def ifQualified(difference, alpha_m, offset):\n",
    "    count = 0\n",
    "    length = len(difference)\n",
    "    for i in range(length):\n",
    "        if difference[i] <= offset:\n",
    "            count += 1\n",
    "        if count >= alpha_m:\n",
    "            return True\n",
    "    return False"
   ]
  },
  {
   "cell_type": "code",
   "execution_count": 11,
   "metadata": {},
   "outputs": [],
   "source": [
    "def c2lsh(data_hashes, query_hashes, alpha_m, beta_n):\n",
    "    offset = 0\n",
    "    numCandidates = 0\n",
    "    data_hashes = data_hashes.map(lambda x : (x[0], diff(x[1], query_hashes)))\n",
    "    return data_hashes\n",
    "    # while numCandidates < beta_n:#(0)\n",
    "    #     candidatesRDD = data_hashes.flatMap( lambda x : [x[0]] if ifQualified(x[1], alpha_m, offset) else [])\n",
    "    #     numCandidates = candidatesRDD.count()\n",
    "    #     offset += 1 \n",
    "    #     # print(\"offset: \", offset,  \"numCandidates: \", numCandidates)\n",
    "    # return candidatesRDD\n"
   ]
  },
  {
   "cell_type": "code",
   "execution_count": 12,
   "metadata": {},
   "outputs": [],
   "source": [
    "def createSC():\n",
    "    conf = SparkConf()\n",
    "    conf.setMaster(\"local[*]\")\n",
    "    conf.setAppName(\"C2LSH\")\n",
    "    sc = SparkContext(conf = conf)\n",
    "    return sc"
   ]
  },
  {
   "cell_type": "code",
   "execution_count": 16,
   "metadata": {
    "tags": []
   },
   "outputs": [
    {
     "output_type": "error",
     "ename": "SyntaxError",
     "evalue": "invalid syntax (<ipython-input-16-29fdc5dd0799>, line 13)",
     "traceback": [
      "\u001b[0;36m  File \u001b[0;32m\"<ipython-input-16-29fdc5dd0799>\"\u001b[0;36m, line \u001b[0;32m13\u001b[0m\n\u001b[0;31m    data_hashes = data_hashes.map(lambda x, diff(x[1], query_hashes))\u001b[0m\n\u001b[0m                                                ^\u001b[0m\n\u001b[0;31mSyntaxError\u001b[0m\u001b[0;31m:\u001b[0m invalid syntax\n"
     ]
    }
   ],
   "source": [
    "with open(\"/Users/yuan/9313 Big Data Management/project1/COMP9313_project_1_v1/toy/toy_hashed_data\", \"rb\") as file:\n",
    "    data = pickle.load(file)\n",
    "\n",
    "with open(\"/Users/yuan/9313 Big Data Management/project1/COMP9313_project_1_v1/toy/toy_hashed_query\", \"rb\") as file:\n",
    "    query_hashes = pickle.load(file)\n",
    "\n",
    "alpha_m  = 10\n",
    "beta_n = 10\n",
    "\n",
    "sc = createSC()\n",
    "data_hashes = sc.parallelize([(index, x) for index, x in enumerate(data)])\n",
    "\n",
    "data_hashes = data_hashes.map(lambda x: (x[0], diff(x[1], query_hashes))).collect()"
   ]
  },
  {
   "cell_type": "code",
   "execution_count": null,
   "metadata": {},
   "outputs": [],
   "source": []
  }
 ],
 "metadata": {
  "language_info": {
   "codemirror_mode": {
    "name": "ipython",
    "version": 3
   },
   "file_extension": ".py",
   "mimetype": "text/x-python",
   "name": "python",
   "nbconvert_exporter": "python",
   "pygments_lexer": "ipython3",
   "version": 3
  },
  "orig_nbformat": 2,
  "kernelspec": {
   "name": "python_defaultSpec_1594372037624",
   "display_name": "Python 3.6.10 64-bit"
  }
 },
 "nbformat": 4,
 "nbformat_minor": 2
}