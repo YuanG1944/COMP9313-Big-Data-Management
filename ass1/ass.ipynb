{
 "metadata": {
  "language_info": {
   "codemirror_mode": {
    "name": "ipython",
    "version": 3
   },
   "file_extension": ".py",
   "mimetype": "text/x-python",
   "name": "python",
   "nbconvert_exporter": "python",
   "pygments_lexer": "ipython3",
   "version": 3
  },
  "orig_nbformat": 2,
  "kernelspec": {
   "name": "python_defaultSpec_1595377099534",
   "display_name": "Python 3.6.10 64-bit ('COMP9313': conda)"
  }
 },
 "nbformat": 4,
 "nbformat_minor": 2,
 "cells": [
  {
   "cell_type": "code",
   "execution_count": 2,
   "metadata": {},
   "outputs": [],
   "source": [
    "from pyspark import SparkConf, SparkContext"
   ]
  },
  {
   "cell_type": "code",
   "execution_count": 3,
   "metadata": {},
   "outputs": [],
   "source": [
    "# create SparkConf and SparkContext\n",
    "conf = SparkConf().setMaster(\"local\").setAppName(\"hellow_9313\")\n",
    "sc = SparkContext(conf = conf)"
   ]
  },
  {
   "cell_type": "code",
   "execution_count": 4,
   "metadata": {},
   "outputs": [],
   "source": [
    "raw_data = [(\"Joseph\", \"Maths\", 83), (\"Joseph\", \"Physics\", 74), (\"Joseph\", \"Chemistry\", 91), (\"Joseph\", \"Biology\", 82), (\"Jimmy\", \"Maths\", 69), (\"Jimmy\", \"Physics\", 62), (\"Jimmy\", \"Chemistry\", 97), (\"Jimmy\", \"Biology\", 80), (\"Tina\", \"Maths\", 78), (\"Tina\", \"Physics\", 73), (\"Tina\", \"Chemistry\", 68), (\"Tina\", \"Biology\", 87), (\"Thomas\", \"Maths\", 87), (\"Thomas\", \"Physics\", 93), (\"Thomas\", \"Chemistry\", 91), (\"Thomas\", \"Biology\", 74)]"
   ]
  },
  {
   "cell_type": "code",
   "execution_count": 5,
   "metadata": {},
   "outputs": [],
   "source": [
    "rdd_1 = sc.parallelize(raw_data)"
   ]
  },
  {
   "cell_type": "code",
   "execution_count": 6,
   "metadata": {},
   "outputs": [
    {
     "output_type": "execute_result",
     "data": {
      "text/plain": "[('Joseph', 83),\n ('Joseph', 74),\n ('Joseph', 91),\n ('Joseph', 82),\n ('Jimmy', 69),\n ('Jimmy', 62),\n ('Jimmy', 97),\n ('Jimmy', 80),\n ('Tina', 78),\n ('Tina', 73),\n ('Tina', 68),\n ('Tina', 87),\n ('Thomas', 87),\n ('Thomas', 93),\n ('Thomas', 91),\n ('Thomas', 74)]"
     },
     "metadata": {},
     "execution_count": 6
    }
   ],
   "source": [
    "rdd_2 = rdd_1.map(lambda x:(x[0], x[2]))\n",
    "rdd_1.map(lambda x:(x[0], x[2])).collect()"
   ]
  },
  {
   "cell_type": "code",
   "execution_count": 7,
   "metadata": {},
   "outputs": [
    {
     "output_type": "execute_result",
     "data": {
      "text/plain": "[('Joseph', 91), ('Jimmy', 97), ('Tina', 87), ('Thomas', 93)]"
     },
     "metadata": {},
     "execution_count": 7
    }
   ],
   "source": [
    "rdd_3 = rdd_2.reduceByKey(lambda x, y:max(x, y))\n",
    "rdd_2.reduceByKey(lambda x, y:max(x, y)).collect()"
   ]
  },
  {
   "cell_type": "code",
   "execution_count": 8,
   "metadata": {},
   "outputs": [
    {
     "output_type": "execute_result",
     "data": {
      "text/plain": "[('Joseph', 74), ('Jimmy', 62), ('Tina', 68), ('Thomas', 74)]"
     },
     "metadata": {},
     "execution_count": 8
    }
   ],
   "source": [
    "rdd_4 = rdd_2.reduceByKey(lambda x, y:min(x, y))\n",
    "rdd_2.reduceByKey(lambda x, y:min(x, y)).collect()"
   ]
  },
  {
   "cell_type": "code",
   "execution_count": 10,
   "metadata": {},
   "outputs": [
    {
     "output_type": "execute_result",
     "data": {
      "text/plain": "[('Joseph', (91, 74)),\n ('Jimmy', (97, 62)),\n ('Tina', (87, 68)),\n ('Thomas', (93, 74))]"
     },
     "metadata": {},
     "execution_count": 10
    }
   ],
   "source": [
    "rdd_5 = rdd_3.join(rdd_4)\n",
    "rdd_3.join(rdd_4).collect()"
   ]
  },
  {
   "cell_type": "code",
   "execution_count": 11,
   "metadata": {},
   "outputs": [
    {
     "output_type": "execute_result",
     "data": {
      "text/plain": "[('Joseph', 165), ('Jimmy', 159), ('Tina', 155), ('Thomas', 167)]"
     },
     "metadata": {},
     "execution_count": 11
    }
   ],
   "source": [
    "rdd_6 = rdd_5.map(lambda x: (x[0], x[1][0]+x[1][1]))\n",
    "rdd_5.map(lambda x: (x[0], x[1][0]+x[1][1])).collect()"
   ]
  },
  {
   "cell_type": "code",
   "execution_count": 12,
   "metadata": {},
   "outputs": [
    {
     "output_type": "execute_result",
     "data": {
      "text/plain": "[('Joseph', 165), ('Jimmy', 159), ('Tina', 155), ('Thomas', 167)]"
     },
     "metadata": {},
     "execution_count": 12
    }
   ],
   "source": [
    "rdd_6.collect()"
   ]
  },
  {
   "cell_type": "code",
   "execution_count": null,
   "metadata": {},
   "outputs": [],
   "source": []
  }
 ]
}